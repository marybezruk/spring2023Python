{
 "cells": [
  {
   "cell_type": "markdown",
   "metadata": {},
   "source": [
    "## 4-е домашнее задание - Библиотека numpy\n",
    "\n",
    "Подпишите этот блокнот: укажите ФИО и номер группы. Выполненное задание загрузите в свой репозиторий «<b>Spring2023Python</b>» в github в папку \"<b>homework04</b>\".  \n",
    "\n",
    "Перед выполнением этого домашнего задания полезно прочитать про возможности и основные методы библиотеки numpy:  \n",
    "http://acm.mipt.ru/twiki/bin/view/Cintro/PythonNumpy  \n"
   ]
  },
  {
   "cell_type": "markdown",
   "metadata": {
    "tags": []
   },
   "source": [
    "1.\tСоздайте равномерное разбиение интервала от -1.3 до 2.5 на 64 отрезка."
   ]
  },
  {
   "cell_type": "code",
   "execution_count": 2,
   "metadata": {
    "tags": []
   },
   "outputs": [
    {
     "data": {
      "text/plain": [
       "array([-1.3       , -1.23968254, -1.17936508, -1.11904762, -1.05873016,\n",
       "       -0.9984127 , -0.93809524, -0.87777778, -0.81746032, -0.75714286,\n",
       "       -0.6968254 , -0.63650794, -0.57619048, -0.51587302, -0.45555556,\n",
       "       -0.3952381 , -0.33492063, -0.27460317, -0.21428571, -0.15396825,\n",
       "       -0.09365079, -0.03333333,  0.02698413,  0.08730159,  0.14761905,\n",
       "        0.20793651,  0.26825397,  0.32857143,  0.38888889,  0.44920635,\n",
       "        0.50952381,  0.56984127,  0.63015873,  0.69047619,  0.75079365,\n",
       "        0.81111111,  0.87142857,  0.93174603,  0.99206349,  1.05238095,\n",
       "        1.11269841,  1.17301587,  1.23333333,  1.29365079,  1.35396825,\n",
       "        1.41428571,  1.47460317,  1.53492063,  1.5952381 ,  1.65555556,\n",
       "        1.71587302,  1.77619048,  1.83650794,  1.8968254 ,  1.95714286,\n",
       "        2.01746032,  2.07777778,  2.13809524,  2.1984127 ,  2.25873016,\n",
       "        2.31904762,  2.37936508,  2.43968254,  2.5       ])"
      ]
     },
     "execution_count": 2,
     "metadata": {},
     "output_type": "execute_result"
    }
   ],
   "source": [
    "import numpy as np\n",
    "np.linspace(-1.3, 2.5, num=64)"
   ]
  },
  {
   "cell_type": "markdown",
   "metadata": {},
   "source": [
    "2.\tСгенерируйте numpy массив длины $3n$, заполненный циклически числами 1, 2, 3, 1, 2, 3, 1...."
   ]
  },
  {
   "cell_type": "code",
   "execution_count": 2,
   "metadata": {},
   "outputs": [
    {
     "data": {
      "text/plain": [
       "array([1, 2, 3, 1, 2, 3, 1, 2, 3, 1, 2, 3, 1, 2, 3, 1, 2, 3, 1, 2, 3])"
      ]
     },
     "execution_count": 2,
     "metadata": {},
     "output_type": "execute_result"
    }
   ],
   "source": [
    "import numpy as np\n",
    "n = 7\n",
    "np.array([1, 2, 3]*n)"
   ]
  },
  {
   "cell_type": "markdown",
   "metadata": {},
   "source": [
    "3.\tСоздайте массив первых 10 нечетных целых чисел."
   ]
  },
  {
   "cell_type": "code",
   "execution_count": 28,
   "metadata": {
    "tags": []
   },
   "outputs": [
    {
     "data": {
      "text/plain": [
       "array([ 1.,  3.,  5.,  7.,  9., 11., 13., 15., 17., 19.])"
      ]
     },
     "execution_count": 28,
     "metadata": {},
     "output_type": "execute_result"
    }
   ],
   "source": [
    "np.linspace(1, 20, 20)[0:19:2]\n"
   ]
  },
  {
   "cell_type": "markdown",
   "metadata": {},
   "source": [
    "4.  Создайте массив нулей размера 10 x 10, а затем создайте в нём \"рамку\" из единиц по краям."
   ]
  },
  {
   "cell_type": "code",
   "execution_count": 43,
   "metadata": {
    "tags": []
   },
   "outputs": [
    {
     "data": {
      "text/plain": [
       "array([[1., 1., 1., 1., 1., 1., 1., 1., 1., 1.],\n",
       "       [1., 0., 0., 0., 0., 0., 0., 0., 0., 1.],\n",
       "       [1., 0., 0., 0., 0., 0., 0., 0., 0., 1.],\n",
       "       [1., 0., 0., 0., 0., 0., 0., 0., 0., 1.],\n",
       "       [1., 0., 0., 0., 0., 0., 0., 0., 0., 1.],\n",
       "       [1., 0., 0., 0., 0., 0., 0., 0., 0., 1.],\n",
       "       [1., 0., 0., 0., 0., 0., 0., 0., 0., 1.],\n",
       "       [1., 0., 0., 0., 0., 0., 0., 0., 0., 1.],\n",
       "       [1., 0., 0., 0., 0., 0., 0., 0., 0., 1.],\n",
       "       [1., 1., 1., 1., 1., 1., 1., 1., 1., 1.]])"
      ]
     },
     "execution_count": 43,
     "metadata": {},
     "output_type": "execute_result"
    }
   ],
   "source": [
    "a = np.zeros((10,10))\n",
    "a[0] = 1\n",
    "a[-1] = 1\n",
    "a[:,0] = 1\n",
    "a[:,-1] = 1\n",
    "a"
   ]
  },
  {
   "cell_type": "markdown",
   "metadata": {
    "tags": []
   },
   "source": [
    "5.  Создайте массив 8 x 8 с шахматной доской из нулей и единиц."
   ]
  },
  {
   "cell_type": "code",
   "execution_count": 46,
   "metadata": {
    "tags": []
   },
   "outputs": [
    {
     "data": {
      "text/plain": [
       "array([[0, 1, 0, 1, 0, 1, 0, 1],\n",
       "       [1, 0, 1, 0, 1, 0, 1, 0],\n",
       "       [0, 1, 0, 1, 0, 1, 0, 1],\n",
       "       [1, 0, 1, 0, 1, 0, 1, 0],\n",
       "       [0, 1, 0, 1, 0, 1, 0, 1],\n",
       "       [1, 0, 1, 0, 1, 0, 1, 0],\n",
       "       [0, 1, 0, 1, 0, 1, 0, 1],\n",
       "       [1, 0, 1, 0, 1, 0, 1, 0]])"
      ]
     },
     "execution_count": 46,
     "metadata": {},
     "output_type": "execute_result"
    }
   ],
   "source": [
    "a = np.zeros((8,8), dtype=int)\n",
    "a[1::2,::2] = 1\n",
    "a[::2,1::2] = 1\n",
    "a"
   ]
  },
  {
   "cell_type": "markdown",
   "metadata": {},
   "source": [
    "6.  Создайте функцию, которая создает $n×n$ матрицу с $(i,j)$-элементом, равным $i+j$."
   ]
  },
  {
   "cell_type": "code",
   "execution_count": 17,
   "metadata": {},
   "outputs": [
    {
     "data": {
      "text/plain": [
       "array([[0., 1., 2., 3., 4.],\n",
       "       [1., 2., 3., 4., 5.],\n",
       "       [2., 3., 4., 5., 6.],\n",
       "       [3., 4., 5., 6., 7.],\n",
       "       [4., 5., 6., 7., 8.]])"
      ]
     },
     "execution_count": 17,
     "metadata": {},
     "output_type": "execute_result"
    }
   ],
   "source": [
    "import numpy as np\n",
    "n = 5\n",
    "def power(i, j):\n",
    "  return i + j\n",
    "a = np.fromfunction(power, (n, n))\n",
    "a"
   ]
  },
  {
   "cell_type": "markdown",
   "metadata": {},
   "source": [
    "7. Примените функцию dot для перемножения вектор на вектор, матрицу на вектор и матрицу на матрицу."
   ]
  },
  {
   "cell_type": "code",
   "execution_count": 22,
   "metadata": {
    "scrolled": false
   },
   "outputs": [
    {
     "name": "stdout",
     "output_type": "stream",
     "text": [
      "Вектор 1 [8 6 9 3 3]\n",
      "Вектор 2 [7 6 2 6 8]\n",
      "Массив 1\n",
      " [[7 8 5 6 3]\n",
      " [7 1 1 9 2]\n",
      " [8 5 1 3 2]\n",
      " [7 4 4 1 8]\n",
      " [3 5 5 7 4]]\n",
      "Массив 2\n",
      " [[3 6 9 9 7]\n",
      " [6 6 9 5 7]\n",
      " [8 3 8 9 4]\n",
      " [2 8 2 5 7]\n",
      " [5 2 4 1 4]]\n",
      "a*b 152\n",
      "a*m2\n",
      " [167 127 122 151 135]\n",
      "m1*m2\n",
      " [[136 159 199 181 179]\n",
      " [ 63 127 106 124 131]\n",
      " [ 78 109 139 123 124]\n",
      " [119 102 165 132 132]\n",
      " [113 127 142 136 141]]\n"
     ]
    }
   ],
   "source": [
    "import numpy as np\n",
    "a = np.random.randint(1,10,5)\n",
    "b = np.random.randint(1,10,5)\n",
    "m1 = np.random.randint(1, 10, size=(5, 5))\n",
    "m2 = np.random.randint(1, 10, size=(5, 5))\n",
    "res1 = np.dot(a, b)\n",
    "res2 = np.dot(m1, b)\n",
    "res3 = np.dot(m1, m2)\n",
    "print('Вектор 1', a )\n",
    "print('Вектор 2', b )\n",
    "print('Массив 1\\n', m1 )\n",
    "print('Массив 2\\n', m2 )\n",
    "print('a*b', res1 )\n",
    "print('a*m2\\n', res2 )\n",
    "print('m1*m2\\n', res3 )"
   ]
  },
  {
   "cell_type": "markdown",
   "metadata": {},
   "source": [
    "8. Вычислите cos(x) и sin(x) на интервале [0,1] с шагом $0.05$, а затем объедините оба массива чисел как строки в один массив."
   ]
  },
  {
   "cell_type": "code",
   "execution_count": 21,
   "metadata": {},
   "outputs": [
    {
     "name": "stdout",
     "output_type": "stream",
     "text": [
      "[1.0, 0.9987502603949663, 0.9950041652780258, 0.9887710779360422, 0.9800665778412416, 0.9689124217106447, 0.955336489125606, 0.9393727128473789, 0.9210609940028851, 0.9004471023526769, 0.8775825618903728, 0.8525245220595057, 0.8253356149096782, 0.7960837985490559, 0.7648421872844884, 0.7316888688738209, 0.6967067093471654, 0.6599831458849821, 0.6216099682706644, 0.5816830894638835, 0.5403023058681398, 0.0, 0.04997916927067833, 0.09983341664682815, 0.14943813247359924, 0.19866933079506122, 0.24740395925452294, 0.2955202066613396, 0.3428978074554514, 0.3894183423086505, 0.43496553411123023, 0.479425538604203, 0.5226872289306592, 0.5646424733950355, 0.6051864057360395, 0.6442176872376911, 0.6816387600233341, 0.7173560908995228, 0.7512804051402927, 0.7833269096274834, 0.8134155047893737, 0.8414709848078965]\n"
     ]
    }
   ],
   "source": [
    "a = np.linspace(0, 1.0, 21)\n",
    "#print(a)\n",
    "cosinus = np.cos(a)\n",
    "sinus = np.sin(a)\n",
    "print(list(cosinus)+list(sinus))\n"
   ]
  },
  {
   "cell_type": "markdown",
   "metadata": {},
   "source": [
    "9. Создайте матрицу $A$ размера $3×5$ из случайных чисел с равномерным распределением на отрезке $[-1,3]$ (используйте np.random.rand)"
   ]
  },
  {
   "cell_type": "code",
   "execution_count": 23,
   "metadata": {},
   "outputs": [
    {
     "name": "stdout",
     "output_type": "stream",
     "text": [
      "[[0.99439001 0.61882214 0.61997631 0.1493469  0.59856209]\n",
      " [0.07833066 0.59072266 0.70070312 0.04842809 0.15635454]\n",
      " [0.65246056 0.78340722 0.39788964 0.18612208 0.78754429]]\n"
     ]
    }
   ],
   "source": [
    "import numpy as np\n",
    "A = np.random.rand(3,5)\n",
    "print (A)"
   ]
  },
  {
   "cell_type": "markdown",
   "metadata": {},
   "source": [
    "10. Найдите сумму всех элементов, сумму внутри строк, сумму внутри столбцов, а также среднее значение, дисперсию и стандартное отклонение чисел для каждой строки матрицы $A$. (Подобно тому, как sorted имеет необязательный аргумент key=, многие функции Numpy имеют необязательный аргумент axis=)\n"
   ]
  },
  {
   "cell_type": "code",
   "execution_count": 24,
   "metadata": {},
   "outputs": [
    {
     "name": "stdout",
     "output_type": "stream",
     "text": [
      "Сумма всех элементов: 7.3630603144834605\n",
      "Cумма внутри строк: [2.98109744 1.57453908 2.80742379]\n",
      "Сумма внутри столбцов: [1.72518123 1.99295202 1.71856908 0.38389706 1.54246092]\n",
      "Средние значения: [0.59621949 0.31490782 0.56148476]\n",
      "Дисперсии: [0.07186313 0.07540624 0.05525792]\n",
      "Стандартные отклонения: [0.26807299 0.27460196 0.23507003]\n"
     ]
    }
   ],
   "source": [
    "sum = np.sum(A)\n",
    "sum_col = np.sum(A, axis = 0)\n",
    "sum_row = np.sum(A, axis = 1)\n",
    "mean = np.mean(A, axis = 1)\n",
    "variance = np.var(A, axis = 1)\n",
    "std_deviation = np.std(A, axis = 1)\n",
    "print(f'Сумма всех элементов: {sum}\\nCумма внутри строк: {sum_row}\\nСумма внутри столбцов: {sum_col}\\n' \\\n",
    "      f'Средние значения: {mean}\\nДисперсии: {variance}\\nСтандартные отклонения: {std_deviation}')"
   ]
  },
  {
   "cell_type": "markdown",
   "metadata": {},
   "source": [
    "11.  Отнимите от каждого элемента матрицы $A$ среднее по строке и поделите на стандартное отклонение строки."
   ]
  },
  {
   "cell_type": "code",
   "execution_count": 26,
   "metadata": {},
   "outputs": [
    {
     "data": {
      "text/plain": [
       "array([[ 1.48530639,  0.08431527,  0.08862074, -1.66698106,  0.00873866],\n",
       "       [-0.86152755,  1.00441689,  1.40492554, -0.9704218 , -0.57739308],\n",
       "       [ 0.38701575,  0.94406957, -0.69594205, -1.59681216,  0.96166889]])"
      ]
     },
     "execution_count": 26,
     "metadata": {},
     "output_type": "execute_result"
    }
   ],
   "source": [
    "for i in range(len(A)):\n",
    "    A[i,:] -= A.mean(1)[i]\n",
    "    A[i,:] /= A.std(1)[i]\n",
    "A"
   ]
  },
  {
   "cell_type": "markdown",
   "metadata": {},
   "source": [
    "12. Отсортируйте матрицу $A$ по 3-ому столбцу, т.е. поменяйте местами строки матрицы так, чтобы 3-й столбец оказался отсортированным. Используйте для этого slicing + argsort + indexing."
   ]
  },
  {
   "cell_type": "code",
   "execution_count": null,
   "metadata": {},
   "outputs": [],
   "source": [
    "A[A[:, 2].argsort()]"
   ]
  },
  {
   "cell_type": "markdown",
   "metadata": {},
   "source": [
    "13. Посчитайте две матрицы: $B = A^TA$ и $C = AA^T$. Что вы можете о них сказать? Какого они размера? В чём их сходство и отличие?"
   ]
  },
  {
   "cell_type": "code",
   "execution_count": 29,
   "metadata": {},
   "outputs": [
    {
     "name": "stdout",
     "output_type": "stream",
     "text": [
      "[[ 3.09814597 -0.37472901 -1.34809363 -2.25792396  0.88260063]\n",
      " [-0.37472901  1.90722971  0.7615853  -2.62276178  0.32867578]\n",
      " [-1.34809363  0.7615853   2.46600474 -0.39981074 -1.47968568]\n",
      " [-2.25792396 -2.62276178 -0.39981074  6.2703534  -0.98985692]\n",
      " [ 0.88260063  0.32867578 -1.47968568 -0.98985692  1.25826619]]\n",
      "[[5.         0.54218998 3.26302087]\n",
      " [0.54218998 5.         0.6313883 ]\n",
      " [3.26302087 0.6313883  5.        ]]\n"
     ]
    }
   ],
   "source": [
    "b = np.dot(np.transpose(A), A)\n",
    "c = np.dot(A, np.transpose(A))\n",
    "print(b)\n",
    "print(c)"
   ]
  },
  {
   "cell_type": "markdown",
   "metadata": {},
   "source": [
    "14. Найдите сумму диагональных элементов матриц $B$ и $C$."
   ]
  },
  {
   "cell_type": "code",
   "execution_count": 30,
   "metadata": {},
   "outputs": [
    {
     "data": {
      "text/plain": [
       "30.0"
      ]
     },
     "execution_count": 30,
     "metadata": {},
     "output_type": "execute_result"
    }
   ],
   "source": [
    "np.sum(np.diagonal(b)) + np.sum(np.diagonal(c))"
   ]
  },
  {
   "cell_type": "markdown",
   "metadata": {},
   "source": [
    "15.\tПосчитайте детерминант и ранг матриц $A$, $B$ и $C$, посмотрите на спектр (набор собственных значений) матриц $B$ и $C$, какие выводы вы можете сделать?  \n",
    "(подсказка: используйте готовые функции из библиотеки np.linalg). \n"
   ]
  },
  {
   "cell_type": "code",
   "execution_count": 31,
   "metadata": {},
   "outputs": [
    {
     "name": "stdout",
     "output_type": "stream",
     "text": [
      "0.0\n",
      "70.53444384800845\n",
      "3\n",
      "3\n",
      "3\n",
      "[ 8.46197130e+00  4.80230897e+00  1.73571973e+00  2.53833415e-16\n",
      " -3.56376341e-16]\n",
      "[8.4619713  1.73571973 4.80230897]\n"
     ]
    }
   ],
   "source": [
    "#print(np.linalg.det(matrix)) A не квадратная, ошибка.\n",
    "print(np.linalg.det(b))\n",
    "print(np.linalg.det(c))\n",
    "print(np.linalg.matrix_rank(A))\n",
    "print(np.linalg.matrix_rank(b))\n",
    "print(np.linalg.matrix_rank(c))\n",
    "w_b, v_b = np.linalg.eig(b)\n",
    "w_c, v_b = np.linalg.eig(c)\n",
    "print(w_b)\n",
    "print(w_c)"
   ]
  },
  {
   "cell_type": "markdown",
   "metadata": {},
   "source": [
    "16. Численно посчитать определённый интеграл  3-мя методами:  \n",
    "a)\tПрямоугольников $\\int\\limits_a^b {f(x)dx \\approx \\Delta x\\sum\\limits_{k = 0}^N {f({x_k})} }$  \n",
    "b)\tТрапеций $\\int\\limits_a^b {f(x)dx \\approx \\frac{{\\Delta x}}{2}\\left( {f({x_0}) + 2\\sum\\limits_{k = 1}^{N - 1} {f({x_k})}  + f({x_N})} \\right)}$  \n",
    "c)\tПо правилу Симпсона  $\\int\\limits_a^b {f(x)dx \\approx \\frac{{\\Delta x}}{3}\\left( {f({x_0}) + 2\\sum\\limits_{k = 1}^{N/2 - 1} {f({x_{2k}})}  + 4\\sum\\limits_{k = 1}^{N/2} {f({x_{2k - 1}})}  + f({x_N})} \\right)}$  \n",
    "\n",
    "\n",
    "В реализации этих методов цикл for для суммирования использовать нельзя.  \n",
    "Нужно посчитать значение интеграла с некоторым шагом интегрирования (например начать с 0.1), потом уменьшить его в десять раз и ещё раз посчитать и так до тех пор пока отличие в ответах будет в 5-м знаке после запятой, т.е. чтобы ошибка была меньше 1e-5. Получить ответы для 3-х разных методов и сделать соответствующие выводы.  \n",
    "\n",
    "Далее необходимо сравнить полученные оценки с аналитическим решением (т.е. формульным, которое вы должны сами посчитать на листочке и вбить формулу-ответ).   \n",
    "\n",
    "В качестве интеграла взять два из следующих примеров:  \n",
    "- один с номером, сгенерированным случайным образом с помощью функции np.random.randint(9), в качестве seed для генератора случайных чисел взять номер своего студенческого билета. \n",
    "- второй номер - под номером 9, несобственный интерграл. Подумайте, как сделать подбор шага интегрирования адаптивным.\n",
    "\n",
    "<table width=\"80%\"\n",
    "       align=\"center\">\n",
    "    <tr>\n",
    "        <td> 0) $\\int\\limits_3^4 {\\frac{{{x^2} + 3}}{{x - 2}}dx}$ </td>\n",
    "        <td> 1) $\\int\\limits_{ - 2}^{ - 1} {\\frac{{x + 1}}{{{x^3} - {x^2}}}dx}$ </td>\n",
    "        <td> 2) $\\int\\limits_1^2 {\\frac{{{e^{1/{x^2}}}}}{{{x^3}}}dx}$ </td>\n",
    "        <td> 3) $\\int\\limits_1^e {\\frac{{\\cos (\\ln x)}}{x}dx}$ </td>\n",
    "        <td> 4) $\\int\\limits_1^e {\\frac{{dx}}{{x(1 + {{\\ln }^2}x)}}}$ </td>\n",
    "    </tr>                \n",
    "    <tr>\n",
    "        <td> 5) $\\int\\limits_0^{\\pi /2} {{{\\cos }^3}\\alpha \\;d\\alpha }$ </td>\n",
    "        <td> 6) $\\int\\limits_0^{1/3} {c{h^2}3x\\;dx}$ </td>\n",
    "        <td> 7) $\\int\\limits_2^3 {\\frac{{dy}}{{{y^2} - 2y - 8}}dy}$ </td>\n",
    "        <td> 8) $\\int\\limits_0^2 {\\frac{{2x - 1}}{{2x + 1}}dx}$ </td>\n",
    "        <td> 9) $\\int\\limits_{3/4}^2 {\\frac{{dx}}{{\\sqrt {2 + 3x - 2{x^2}} }}}$ </td>\n",
    "        </tr>\n",
    "</table>"
   ]
  },
  {
   "cell_type": "code",
   "execution_count": 35,
   "metadata": {},
   "outputs": [
    {
     "data": {
      "text/plain": [
       "1"
      ]
     },
     "execution_count": 35,
     "metadata": {},
     "output_type": "execute_result"
    }
   ],
   "source": [
    "np.random.seed(1032201720)\n",
    "np.random.randint(3)"
   ]
  },
  {
   "cell_type": "code",
   "execution_count": 36,
   "metadata": {},
   "outputs": [
    {
     "name": "stdout",
     "output_type": "stream",
     "text": [
      "Аналитическое решение интеграла 1:  0.07536414490356158\n",
      "Аналитическое решение интеграла 2:  1.1107207345395915\n"
     ]
    }
   ],
   "source": [
    "print('Аналитическое решение интеграла 1: ', -2 * np.log(3) + 4 * np.log(2) - 1/2)\n",
    "print('Аналитическое решение интеграла 9: ', np.pi/(2**(3/2)))"
   ]
  },
  {
   "cell_type": "code",
   "execution_count": 37,
   "metadata": {},
   "outputs": [
    {
     "name": "stdout",
     "output_type": "stream",
     "text": [
      "Для интеграла 1: 0.07536077471587936 Для интеграла 9: 1.1041419998928388\n",
      "Для интеграла 1: 0.07535660804921268 Для интеграла 9: 1.1041172156215913\n",
      "Для интеграла 1: 0.07535660765565484 Для интеграла 9: 1.1032101773676126\n"
     ]
    }
   ],
   "source": [
    "def func1(x):\n",
    "    return (x+1)/(x**3-x**2)\n",
    "\n",
    "def func2(x):\n",
    "    return 1/np.sqrt(2+3*x-2*x**2, where = x!=2)\n",
    "\n",
    "def solution(func,a, b, dx, method):\n",
    "    n = int((b-a) / dx)\n",
    "    xx = np.linspace(a, b, n)\n",
    "    if method == 'rectangular':\n",
    "        return dx*np.sum(func(xx))\n",
    "    elif method == 'trapezoid':\n",
    "        return dx/2*(func(xx[0]) + 2*np.sum(func(xx[1:-1])) + func(xx[-1]))\n",
    "    elif method == 'simpson':\n",
    "        return dx/3*(func(xx[0]) + 2*np.sum(func(xx[2:-1:2])) + 4*np.sum(func(xx[1:-2:2])) + func(xx[-1]))\n",
    "    else:\n",
    "        return 'Неверный метод'\n",
    "    \n",
    "print('Для интеграла 1:', solution(func1, -2, -1, 0.0001, 'rectangular'), 'Для интеграла 9:', solution(func2, 3/4, 2, 0.0001, 'rectangular') )\n",
    "print('Для интеграла 1:', solution(func1, -2, -1, 0.0001, 'trapezoid'), 'Для интеграла 9:', solution(func2, 3/4, 2, 0.0001, 'trapezoid') )\n",
    "print('Для интеграла 1:', solution(func1, -2, -1, 0.0001, 'simpson'), 'Для интеграла 9:', solution(func2, 3/4, 2, 0.0001, 'simpson') )"
   ]
  },
  {
   "cell_type": "code",
   "execution_count": null,
   "metadata": {},
   "outputs": [],
   "source": []
  }
 ],
 "metadata": {
  "kernelspec": {
   "display_name": "Python 3 (ipykernel)",
   "language": "python",
   "name": "python3"
  },
  "language_info": {
   "codemirror_mode": {
    "name": "ipython",
    "version": 3
   },
   "file_extension": ".py",
   "mimetype": "text/x-python",
   "name": "python",
   "nbconvert_exporter": "python",
   "pygments_lexer": "ipython3",
   "version": "3.10.11"
  }
 },
 "nbformat": 4,
 "nbformat_minor": 4
}
